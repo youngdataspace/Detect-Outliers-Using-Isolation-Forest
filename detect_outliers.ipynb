{
 "cells": [
  {
   "cell_type": "markdown",
   "id": "8f443f94",
   "metadata": {},
   "source": [
    "In Yoon(2022), I follow accounting literature and percentile-based approach (winsorize at 1% and 99%) to address outliers. To test the robustness of the results..."
   ]
  },
  {
   "cell_type": "markdown",
   "id": "3a5f13fd",
   "metadata": {},
   "source": [
    "### 2.1. Setup\n"
   ]
  },
  {
   "cell_type": "code",
   "execution_count": 76,
   "id": "053b6874",
   "metadata": {
    "scrolled": true
   },
   "outputs": [],
   "source": [
    "# Import libraries\n",
    "import pandas as pd\n",
    "import numpy as np\n",
    "import seaborn as sns\n",
    "import matplotlib.pyplot as plt"
   ]
  },
  {
   "cell_type": "code",
   "execution_count": 77,
   "id": "51300467",
   "metadata": {
    "scrolled": true
   },
   "outputs": [],
   "source": [
    "# Import the dataset\n",
    "sample_with_outliers = pd.read_csv('sample_detect_outliers.csv')"
   ]
  },
  {
   "cell_type": "markdown",
   "id": "a23bc154",
   "metadata": {},
   "source": [
    "### 2.2. Conduct an Exploratory Data Analysis (EDA)"
   ]
  },
  {
   "cell_type": "markdown",
   "id": "c11db795",
   "metadata": {},
   "source": [
    "#### 2.2.1. Show the first 5 entries in the data"
   ]
  },
  {
   "cell_type": "code",
   "execution_count": 78,
   "id": "6ee39447",
   "metadata": {
    "scrolled": false
   },
   "outputs": [
    {
     "data": {
      "text/html": [
       "<div>\n",
       "<style scoped>\n",
       "    .dataframe tbody tr th:only-of-type {\n",
       "        vertical-align: middle;\n",
       "    }\n",
       "\n",
       "    .dataframe tbody tr th {\n",
       "        vertical-align: top;\n",
       "    }\n",
       "\n",
       "    .dataframe thead th {\n",
       "        text-align: right;\n",
       "    }\n",
       "</style>\n",
       "<table border=\"1\" class=\"dataframe\">\n",
       "  <thead>\n",
       "    <tr style=\"text-align: right;\">\n",
       "      <th></th>\n",
       "      <th>identifier</th>\n",
       "      <th>lease</th>\n",
       "      <th>lag_lease</th>\n",
       "      <th>lag_market_value</th>\n",
       "      <th>lag_dividend</th>\n",
       "      <th>lag_loss</th>\n",
       "      <th>lag_cash</th>\n",
       "      <th>lag_tax_rate</th>\n",
       "      <th>lag_big4_auditor</th>\n",
       "    </tr>\n",
       "  </thead>\n",
       "  <tbody>\n",
       "    <tr>\n",
       "      <th>0</th>\n",
       "      <td>1004</td>\n",
       "      <td>1.716172</td>\n",
       "      <td>1.300330</td>\n",
       "      <td>6.953107</td>\n",
       "      <td>0.007855</td>\n",
       "      <td>0</td>\n",
       "      <td>0.036106</td>\n",
       "      <td>0.362751</td>\n",
       "      <td>1</td>\n",
       "    </tr>\n",
       "    <tr>\n",
       "      <th>1</th>\n",
       "      <td>1004</td>\n",
       "      <td>1.664240</td>\n",
       "      <td>1.802926</td>\n",
       "      <td>6.736387</td>\n",
       "      <td>0.007212</td>\n",
       "      <td>0</td>\n",
       "      <td>0.021635</td>\n",
       "      <td>0.359671</td>\n",
       "      <td>1</td>\n",
       "    </tr>\n",
       "    <tr>\n",
       "      <th>2</th>\n",
       "      <td>1004</td>\n",
       "      <td>1.163486</td>\n",
       "      <td>1.595639</td>\n",
       "      <td>7.090351</td>\n",
       "      <td>0.006781</td>\n",
       "      <td>0</td>\n",
       "      <td>0.006848</td>\n",
       "      <td>0.354971</td>\n",
       "      <td>1</td>\n",
       "    </tr>\n",
       "    <tr>\n",
       "      <th>3</th>\n",
       "      <td>1004</td>\n",
       "      <td>1.416672</td>\n",
       "      <td>1.147767</td>\n",
       "      <td>7.346950</td>\n",
       "      <td>0.006755</td>\n",
       "      <td>0</td>\n",
       "      <td>0.027284</td>\n",
       "      <td>0.210000</td>\n",
       "      <td>1</td>\n",
       "    </tr>\n",
       "    <tr>\n",
       "      <th>4</th>\n",
       "      <td>1050</td>\n",
       "      <td>0.626734</td>\n",
       "      <td>0.659966</td>\n",
       "      <td>5.562565</td>\n",
       "      <td>0.013321</td>\n",
       "      <td>1</td>\n",
       "      <td>0.065985</td>\n",
       "      <td>0.350000</td>\n",
       "      <td>0</td>\n",
       "    </tr>\n",
       "  </tbody>\n",
       "</table>\n",
       "</div>"
      ],
      "text/plain": [
       "   identifier     lease  lag_lease  lag_market_value  lag_dividend  lag_loss  \\\n",
       "0        1004  1.716172   1.300330          6.953107      0.007855         0   \n",
       "1        1004  1.664240   1.802926          6.736387      0.007212         0   \n",
       "2        1004  1.163486   1.595639          7.090351      0.006781         0   \n",
       "3        1004  1.416672   1.147767          7.346950      0.006755         0   \n",
       "4        1050  0.626734   0.659966          5.562565      0.013321         1   \n",
       "\n",
       "   lag_cash  lag_tax_rate  lag_big4_auditor  \n",
       "0  0.036106      0.362751                 1  \n",
       "1  0.021635      0.359671                 1  \n",
       "2  0.006848      0.354971                 1  \n",
       "3  0.027284      0.210000                 1  \n",
       "4  0.065985      0.350000                 0  "
      ]
     },
     "execution_count": 78,
     "metadata": {},
     "output_type": "execute_result"
    }
   ],
   "source": [
    "# First 5 entries\n",
    "sample_with_outliers.head()"
   ]
  },
  {
   "cell_type": "markdown",
   "id": "f1c2a519",
   "metadata": {},
   "source": [
    "#### 2.2.2. The # of entries and the # of features\n",
    "There are 6,279 entries.<br>\n",
    "There are 9 variables = 1 identifier + 1 outcome variable + 7 firm features. The second variable shown above, lease, is the outcome variable.\n"
   ]
  },
  {
   "cell_type": "code",
   "execution_count": 79,
   "id": "8a6578cb",
   "metadata": {
    "scrolled": true
   },
   "outputs": [
    {
     "name": "stdout",
     "output_type": "stream",
     "text": [
      "(6279, 9)\n"
     ]
    }
   ],
   "source": [
    "# (Number of entries, Number of features)\n",
    "print(sample_with_outliers.shape)"
   ]
  },
  {
   "cell_type": "markdown",
   "id": "a686dd0a",
   "metadata": {},
   "source": [
    "#### 2.2.3. Empirical distributions and histograms\n",
    "There are many interesting observations that are worth noting. First, there are no missing values (all counts equal 6,279). I will explain others below."
   ]
  },
  {
   "cell_type": "code",
   "execution_count": 80,
   "id": "8f65da2f",
   "metadata": {
    "scrolled": false
   },
   "outputs": [
    {
     "data": {
      "text/html": [
       "<div>\n",
       "<style scoped>\n",
       "    .dataframe tbody tr th:only-of-type {\n",
       "        vertical-align: middle;\n",
       "    }\n",
       "\n",
       "    .dataframe tbody tr th {\n",
       "        vertical-align: top;\n",
       "    }\n",
       "\n",
       "    .dataframe thead th {\n",
       "        text-align: right;\n",
       "    }\n",
       "</style>\n",
       "<table border=\"1\" class=\"dataframe\">\n",
       "  <thead>\n",
       "    <tr style=\"text-align: right;\">\n",
       "      <th></th>\n",
       "      <th>identifier</th>\n",
       "      <th>lease</th>\n",
       "      <th>lag_lease</th>\n",
       "      <th>lag_market_value</th>\n",
       "      <th>lag_dividend</th>\n",
       "      <th>lag_loss</th>\n",
       "      <th>lag_cash</th>\n",
       "      <th>lag_tax_rate</th>\n",
       "      <th>lag_big4_auditor</th>\n",
       "    </tr>\n",
       "  </thead>\n",
       "  <tbody>\n",
       "    <tr>\n",
       "      <th>count</th>\n",
       "      <td>6279.000000</td>\n",
       "      <td>6279.000000</td>\n",
       "      <td>6279.000000</td>\n",
       "      <td>6279.000000</td>\n",
       "      <td>6279.000000</td>\n",
       "      <td>6279.000000</td>\n",
       "      <td>6279.000000</td>\n",
       "      <td>6279.000000</td>\n",
       "      <td>6279.000000</td>\n",
       "    </tr>\n",
       "    <tr>\n",
       "      <th>mean</th>\n",
       "      <td>57841.428094</td>\n",
       "      <td>1.951751</td>\n",
       "      <td>1.778861</td>\n",
       "      <td>7.625380</td>\n",
       "      <td>0.016864</td>\n",
       "      <td>0.236184</td>\n",
       "      <td>0.196037</td>\n",
       "      <td>0.255268</td>\n",
       "      <td>0.821628</td>\n",
       "    </tr>\n",
       "    <tr>\n",
       "      <th>std</th>\n",
       "      <td>66106.400906</td>\n",
       "      <td>3.091940</td>\n",
       "      <td>2.695251</td>\n",
       "      <td>1.731492</td>\n",
       "      <td>0.029755</td>\n",
       "      <td>0.424770</td>\n",
       "      <td>0.223529</td>\n",
       "      <td>0.117834</td>\n",
       "      <td>0.382856</td>\n",
       "    </tr>\n",
       "    <tr>\n",
       "      <th>min</th>\n",
       "      <td>1004.000000</td>\n",
       "      <td>0.000000</td>\n",
       "      <td>0.032784</td>\n",
       "      <td>3.607576</td>\n",
       "      <td>0.000000</td>\n",
       "      <td>0.000000</td>\n",
       "      <td>0.000571</td>\n",
       "      <td>0.000000</td>\n",
       "      <td>0.000000</td>\n",
       "    </tr>\n",
       "    <tr>\n",
       "      <th>25%</th>\n",
       "      <td>10221.000000</td>\n",
       "      <td>0.485310</td>\n",
       "      <td>0.452138</td>\n",
       "      <td>6.441416</td>\n",
       "      <td>0.000000</td>\n",
       "      <td>0.000000</td>\n",
       "      <td>0.038528</td>\n",
       "      <td>0.210000</td>\n",
       "      <td>1.000000</td>\n",
       "    </tr>\n",
       "    <tr>\n",
       "      <th>50%</th>\n",
       "      <td>24171.000000</td>\n",
       "      <td>0.919717</td>\n",
       "      <td>0.845846</td>\n",
       "      <td>7.535678</td>\n",
       "      <td>0.000000</td>\n",
       "      <td>0.000000</td>\n",
       "      <td>0.109758</td>\n",
       "      <td>0.338186</td>\n",
       "      <td>1.000000</td>\n",
       "    </tr>\n",
       "    <tr>\n",
       "      <th>75%</th>\n",
       "      <td>116166.000000</td>\n",
       "      <td>1.951153</td>\n",
       "      <td>1.801071</td>\n",
       "      <td>8.730227</td>\n",
       "      <td>0.022831</td>\n",
       "      <td>0.000000</td>\n",
       "      <td>0.262504</td>\n",
       "      <td>0.350000</td>\n",
       "      <td>1.000000</td>\n",
       "    </tr>\n",
       "    <tr>\n",
       "      <th>max</th>\n",
       "      <td>315318.000000</td>\n",
       "      <td>34.634146</td>\n",
       "      <td>15.867922</td>\n",
       "      <td>12.190620</td>\n",
       "      <td>0.203976</td>\n",
       "      <td>1.000000</td>\n",
       "      <td>0.960804</td>\n",
       "      <td>0.380506</td>\n",
       "      <td>1.000000</td>\n",
       "    </tr>\n",
       "  </tbody>\n",
       "</table>\n",
       "</div>"
      ],
      "text/plain": [
       "          identifier        lease    lag_lease  lag_market_value  \\\n",
       "count    6279.000000  6279.000000  6279.000000       6279.000000   \n",
       "mean    57841.428094     1.951751     1.778861          7.625380   \n",
       "std     66106.400906     3.091940     2.695251          1.731492   \n",
       "min      1004.000000     0.000000     0.032784          3.607576   \n",
       "25%     10221.000000     0.485310     0.452138          6.441416   \n",
       "50%     24171.000000     0.919717     0.845846          7.535678   \n",
       "75%    116166.000000     1.951153     1.801071          8.730227   \n",
       "max    315318.000000    34.634146    15.867922         12.190620   \n",
       "\n",
       "       lag_dividend     lag_loss     lag_cash  lag_tax_rate  lag_big4_auditor  \n",
       "count   6279.000000  6279.000000  6279.000000   6279.000000       6279.000000  \n",
       "mean       0.016864     0.236184     0.196037      0.255268          0.821628  \n",
       "std        0.029755     0.424770     0.223529      0.117834          0.382856  \n",
       "min        0.000000     0.000000     0.000571      0.000000          0.000000  \n",
       "25%        0.000000     0.000000     0.038528      0.210000          1.000000  \n",
       "50%        0.000000     0.000000     0.109758      0.338186          1.000000  \n",
       "75%        0.022831     0.000000     0.262504      0.350000          1.000000  \n",
       "max        0.203976     1.000000     0.960804      0.380506          1.000000  "
      ]
     },
     "execution_count": 80,
     "metadata": {},
     "output_type": "execute_result"
    }
   ],
   "source": [
    "# Show empirical distributions\n",
    "sample_with_outliers.describe()"
   ]
  },
  {
   "cell_type": "code",
   "execution_count": 81,
   "id": "8b457a97",
   "metadata": {
    "scrolled": false
   },
   "outputs": [
    {
     "data": {
      "image/png": "[encoded data removed]",
      "text/plain": [
       "<Figure size 1440x720 with 9 Axes>"
      ]
     },
     "metadata": {
      "needs_background": "light"
     },
     "output_type": "display_data"
    }
   ],
   "source": [
    "# Show histograms - all variables except for the identifier\n",
    "sample_with_outliers.drop(columns='identifier').hist(bins = 20, figsize =(20, 10))\n",
    "plt.show()"
   ]
  },
  {
   "cell_type": "markdown",
   "id": "75840a2d",
   "metadata": {},
   "source": [
    "#### 2.2.4. Drop variables without outliers\n",
    "The above two panels show that lag_loss and lag_big4_auditor are indicator variables without outliers. In addition, the histogram suggests that lag_tax_rate also does not have outliers. During the sample period (2016-2019), corporate tax rate was reduced from 35% to 21%. Two big spikes in the histogram around 35% and 21% and all other values smaller than 35% make an economic sense.\n",
    "\n",
    "Therefore, I will create a new dataframe with variables that have outliers."
   ]
  },
  {
   "cell_type": "code",
   "execution_count": 82,
   "id": "3befd63e",
   "metadata": {},
   "outputs": [],
   "source": [
    "# Drop identifier, lag_loss, lag_big4_auditor, and lag_tax_rate \n",
    "sample = sample_with_outliers.drop(columns=['identifier', 'lag_loss', 'lag_big4_auditor', 'lag_tax_rate'])"
   ]
  },
  {
   "cell_type": "markdown",
   "id": "2adfd108",
   "metadata": {},
   "source": [
    "### 2.3. Z-Score - Detect and Remove Outliers\n",
    "For data that follow a gaussian distribution, the Z-Score method is effective in addressing outliers.\n",
    "\n",
    "The z-score indicates the distance of a data point from the mean as the number of standard deviations. The formula is as follows:\n",
    "\n",
    "![Introduction](https://github.com/youngdataspace/treat-outliers/blob/main/Z%20Score.JPG?raw=true)\n",
    "\n",
    "\n",
    "I am going to assume that observations with a Z-score below -2.5 or above 2.5 (i.e., 2.5 standard deviations away from the mean; 1% of the sample) are outliers.\n",
    "\n",
    "#### 2.3.1. lag_market_value - Identify and remove outliers\n",
    "The previous figure shows that lag_market_value follows a gaussian distribution. I will first calculate the outlier thresholds."
   ]
  },
  {
   "cell_type": "code",
   "execution_count": 83,
   "id": "0a346e26",
   "metadata": {},
   "outputs": [
    {
     "name": "stdout",
     "output_type": "stream",
     "text": [
      "Highest allowed 12.81985531974234\n",
      "Lowest allowed 2.4309039513109827\n"
     ]
    }
   ],
   "source": [
    "# Find the boundary values\n",
    "print(\"Highest allowed\",sample['lag_market_value'].mean() + 3*sample['lag_market_value'].std())\n",
    "print(\"Lowest allowed\",sample['lag_market_value'].mean() - 3*sample['lag_market_value'].std())"
   ]
  },
  {
   "cell_type": "markdown",
   "id": "305b03a3",
   "metadata": {},
   "source": [
    "It turns out that all of the values (N=6,279) are within the boundary values of 2.43 and 12.81. Thus, none of the observations are trimmed."
   ]
  },
  {
   "cell_type": "code",
   "execution_count": 84,
   "id": "bb1ca95f",
   "metadata": {},
   "outputs": [
    {
     "name": "stdout",
     "output_type": "stream",
     "text": [
      "(6279, 5)\n"
     ]
    }
   ],
   "source": [
    "# Filter outliers\n",
    "sample = sample[(sample['lag_market_value'] >= 2.43) | (sample['lag_market_value'] <= 12.82)]\n",
    "print(sample.shape)"
   ]
  },
  {
   "cell_type": "markdown",
   "id": "f01f32df",
   "metadata": {},
   "source": [
    "I'll drop lag_market_value because no outlier treatment is necessary."
   ]
  },
  {
   "cell_type": "code",
   "execution_count": 85,
   "id": "bf57275e",
   "metadata": {},
   "outputs": [],
   "source": [
    "# Drop lag_market_value\n",
    "sample = sample.drop(columns=['lag_market_value'])"
   ]
  },
  {
   "cell_type": "markdown",
   "id": "f670b062",
   "metadata": {},
   "source": [
    "#### 2.3.2. Log transformation of other variables\n",
    "The histogram above shows that lease, lag_lease, lag_dividend, and lag_cash are all significantly right skewed. The Z-Score method or many other popular outlier detection methods such as the Interquartile Range (IQR) method won't do any good. To address this issue, I will conduct log transformations on these variables to see if I can describe them with normal distribution.\n",
    "\n",
    "The histogram also shows that the four variables have many zeros (or very small values), which make economic sense. Therefore, I will only look for outliers on the right-hand side of the distribution. \n",
    "\n",
    "First, I will replace zeros with NaNs. This is okay because zeros will not be considered outliers."
   ]
  },
  {
   "cell_type": "code",
   "execution_count": 86,
   "id": "94acc54c",
   "metadata": {},
   "outputs": [],
   "source": [
    "# Replace zeros with NaNs\n",
    "sample['lag_dividend'] = sample['lag_dividend'].replace([0],np.NaN)\n",
    "sample['lease'] = sample['lease'].replace([0],np.NaN)"
   ]
  },
  {
   "cell_type": "markdown",
   "id": "382671d6",
   "metadata": {},
   "source": [
    "Next, I perform the log transformations and plot histograms"
   ]
  },
  {
   "cell_type": "code",
   "execution_count": 87,
   "id": "c62be610",
   "metadata": {},
   "outputs": [],
   "source": [
    "# Create a function to conduct log transformation\n",
    "def log_transformation_function (dataframe, column_name):\n",
    "    \"\"\" Conduct a log transformation of a variable \"\"\"\n",
    "    # Replace the values with log-transformed values\n",
    "    dataframe[[column_name]] = dataframe[[column_name]].apply(np.log)\n",
    "\n",
    "# Conduct log transformation on all the variables\n",
    "for column in sample:\n",
    "    log_transformation_function(sample, column)   "
   ]
  },
  {
   "cell_type": "code",
   "execution_count": 88,
   "id": "c7fff91d",
   "metadata": {
    "scrolled": true
   },
   "outputs": [
    {
     "data": {
      "image/png": "[encoded data removed]",
      "text/plain": [
       "<Figure size 1440x720 with 4 Axes>"
      ]
     },
     "metadata": {
      "needs_background": "light"
     },
     "output_type": "display_data"
    }
   ],
   "source": [
    "# Plot histrograms\n",
    "sample.hist(bins = 20, figsize =(20, 10))\n",
    "plt.show()"
   ]
  },
  {
   "cell_type": "markdown",
   "id": "9bc09010",
   "metadata": {},
   "source": [
    "#### 2.3.3. Other variables - Identify and remove outliers\n",
    "The distibutions now look much more like normal distributions. Once again, I will use the Z-Score to identify outliers.\n",
    "\n",
    "First, I report the Z-Score upper limits for each variable."
   ]
  },
  {
   "cell_type": "code",
   "execution_count": 89,
   "id": "de7c9d09",
   "metadata": {
    "scrolled": false
   },
   "outputs": [
    {
     "name": "stdout",
     "output_type": "stream",
     "text": [
      "UPPER LIMITS\n",
      "lease: 3.55\n",
      "lag_lease: 3.42\n",
      "lag_dividend: -0.8\n",
      "lag_cash: 1.97\n"
     ]
    }
   ],
   "source": [
    "# Create a function to repot the upper limit of the Z-Score\n",
    "def print_upper_limit (dataframe, column_name):\n",
    "    \"\"\" Print the upper limit of the Z-score \"\"\"\n",
    "    \n",
    "    # Compute the upper limit\n",
    "    upper_limit = dataframe[column_name].mean() + 3 * dataframe[column_name].std()\n",
    "    \n",
    "    # Round and return the limit\n",
    "    upper_limit = round(upper_limit, 2)\n",
    "    return(upper_limit)\n",
    "\n",
    "# Print the upper limit for each variable\n",
    "print(\"UPPER LIMITS\")\n",
    "for column in sample:\n",
    "    print(f\"{column}: {print_upper_limit(sample, column)}\")"
   ]
  },
  {
   "cell_type": "markdown",
   "id": "473d642e",
   "metadata": {},
   "source": [
    "Next, I repot the maximum values of each variable."
   ]
  },
  {
   "cell_type": "code",
   "execution_count": 90,
   "id": "a82c6fae",
   "metadata": {
    "scrolled": true
   },
   "outputs": [
    {
     "name": "stdout",
     "output_type": "stream",
     "text": [
      "\n",
      "MAXIMUM VALUES\n",
      "lease           3.54\n",
      "lag_lease       2.76\n",
      "lag_dividend   -1.59\n",
      "lag_cash       -0.04\n",
      "dtype: float64\n"
     ]
    }
   ],
   "source": [
    "# Print the maximum values\n",
    "print(\"\")\n",
    "print(\"MAXIMUM VALUES\")\n",
    "print(round(sample.max(),2))   "
   ]
  },
  {
   "cell_type": "markdown",
   "id": "6d4741bb",
   "metadata": {},
   "source": [
    "All of the maximum values are smaller than the upper limits. Thus, none of them seems to have outliers."
   ]
  },
  {
   "cell_type": "code",
   "execution_count": null,
   "id": "11901b2e",
   "metadata": {},
   "outputs": [],
   "source": []
  }
 ],
 "metadata": {
  "kernelspec": {
   "display_name": "Python 3 (ipykernel)",
   "language": "python",
   "name": "python3"
  },
  "language_info": {
   "codemirror_mode": {
    "name": "ipython",
    "version": 3
   },
   "file_extension": ".py",
   "mimetype": "text/x-python",
   "name": "python",
   "nbconvert_exporter": "python",
   "pygments_lexer": "ipython3",
   "version": "3.9.7"
  }
 },
 "nbformat": 4,
 "nbformat_minor": 5
}
